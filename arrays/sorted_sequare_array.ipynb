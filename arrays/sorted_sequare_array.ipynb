{
 "cells": [
  {
   "cell_type": "markdown",
   "metadata": {},
   "source": [
    "Given an integer array nums sorted in non-decreasing order, return an array of the squares of each number sorted in non-decreasing order.\n",
    "Example 1:\n",
    "\n",
    "Input: nums = [-4,-1,0,3,10]\n",
    "Output: [0,1,9,16,100]\n",
    "Explanation: After squaring, the array becomes [16,1,0,9,100].\n",
    "After sorting, it becomes [0,1,9,16,100].\n",
    "\n",
    "Example 2:\n",
    "Input: nums = [-7,-3,2,3,11]\n",
    "Output: [4,9,9,49,121]"
   ]
  },
  {
   "cell_type": "markdown",
   "metadata": {},
   "source": [
    "# Solution Description\n",
    "Problem can be solved with two pointers placed at extreames of the array. \n",
    "1. Calcualte the absolute value of the both pointers.\n",
    "2. Depends on which is higher the squeure will be calcualted\n",
    "3. And the value is placed at the result array from last index.\n",
    "\n",
    "Note - Result array should be iterated backwareds because of higher value are to be placed first."
   ]
  },
  {
   "cell_type": "code",
   "execution_count": 7,
   "metadata": {},
   "outputs": [],
   "source": [
    "def sortedSquaredArray(array):\n",
    "    result = [0 for _ in array]\n",
    "    left = 0\n",
    "    right = len(array)-1\n",
    "    currentPosition = len(array)-1\n",
    "    while left < right:\n",
    "        if abs(array[left]) > abs(array[right]):\n",
    "            result[currentPosition] = array[left] ** 2\n",
    "            left +=1\n",
    "        else:\n",
    "            result[currentPosition] = array[right] ** 2\n",
    "            right -=1\n",
    "        currentPosition -=1       \n",
    "    return result\n",
    "\n"
   ]
  },
  {
   "cell_type": "markdown",
   "metadata": {},
   "source": [
    "## Verification"
   ]
  },
  {
   "cell_type": "code",
   "execution_count": 10,
   "metadata": {},
   "outputs": [
    {
     "name": "stdout",
     "output_type": "stream",
     "text": [
      "[0, 4, 9, 16, 100]\n"
     ]
    }
   ],
   "source": [
    "result = sortedSquaredArray([-4,-2,0,3,10])\n",
    "print(result)"
   ]
  }
 ],
 "metadata": {
  "kernelspec": {
   "display_name": "base",
   "language": "python",
   "name": "python3"
  },
  "language_info": {
   "codemirror_mode": {
    "name": "ipython",
    "version": 3
   },
   "file_extension": ".py",
   "mimetype": "text/x-python",
   "name": "python",
   "nbconvert_exporter": "python",
   "pygments_lexer": "ipython3",
   "version": "3.9.13"
  }
 },
 "nbformat": 4,
 "nbformat_minor": 2
}
