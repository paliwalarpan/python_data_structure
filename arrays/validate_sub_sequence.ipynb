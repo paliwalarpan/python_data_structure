{
 "cells": [
  {
   "cell_type": "markdown",
   "metadata": {},
   "source": [
    "# Validate sub sequence\n",
    "A valid subsequence of an array is classified as a set of numbers that aren't necessarily adjacent in the array but are in the same order as they appear in the array. For example, [2, 5, 6] and [2, 6] are both considered as valid subsequences of the array [2, 3, 4, 5, 6]."
   ]
  },
  {
   "cell_type": "code",
   "execution_count": 1,
   "metadata": {},
   "outputs": [],
   "source": [
    "def isValidSubseqence(array, sequence):\n",
    "    subSeqPosition = 0\n",
    "    for value in array:\n",
    "        if subSeqPosition == len(sequence):\n",
    "            break\n",
    "\n",
    "        if sequence[subSeqPosition]==value:\n",
    "            subSeqPosition +=1\n",
    "    return subSeqPosition == len(sequence)"
   ]
  },
  {
   "cell_type": "markdown",
   "metadata": {},
   "source": [
    "# Verification\n",
    "Verify against the input"
   ]
  },
  {
   "cell_type": "code",
   "execution_count": 2,
   "metadata": {},
   "outputs": [
    {
     "name": "stdout",
     "output_type": "stream",
     "text": [
      "is valid subsequence  True\n",
      "is valid subsequence  False\n"
     ]
    }
   ],
   "source": [
    "isValid= isValidSubseqence([2,3,4,5,6],[2,5])\n",
    "print(\"is valid subsequence \", isValid)\n",
    "\n",
    "isValid= isValidSubseqence([2,3,4,5,6],[2,10])\n",
    "print(\"is valid subsequence \", isValid)"
   ]
  }
 ],
 "metadata": {
  "kernelspec": {
   "display_name": "base",
   "language": "python",
   "name": "python3"
  },
  "language_info": {
   "codemirror_mode": {
    "name": "ipython",
    "version": 3
   },
   "file_extension": ".py",
   "mimetype": "text/x-python",
   "name": "python",
   "nbconvert_exporter": "python",
   "pygments_lexer": "ipython3",
   "version": "3.9.13"
  }
 },
 "nbformat": 4,
 "nbformat_minor": 2
}
